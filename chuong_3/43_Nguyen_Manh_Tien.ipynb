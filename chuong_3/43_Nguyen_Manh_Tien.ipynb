{
 "cells": [
  {
   "cell_type": "markdown",
   "metadata": {},
   "source": [
    "# Câu 1"
   ]
  },
  {
   "cell_type": "code",
   "execution_count": 4,
   "metadata": {},
   "outputs": [
    {
     "name": "stdout",
     "output_type": "stream",
     "text": [
      "Hệ số tương quan Pearson: 1.0\n"
     ]
    }
   ],
   "source": [
    "import pandas as pd\n",
    "import numpy as np\n",
    "\n",
    "# Giả sử có DataFrame df với hai cột A và B\n",
    "# Ví dụ tạo giả:\n",
    "df = pd.DataFrame({\n",
    "     'A': [1, 2, 3, 4, 5],\n",
    "     'B': [2, 4, 6, 8, 10]\n",
    " })\n",
    "\n",
    "def pearson_correlation(df, col_a, col_b):\n",
    "    n = len(df)\n",
    "    sum_a = df[col_a].sum()\n",
    "    sum_b = df[col_b].sum()\n",
    "    sum_ab = (df[col_a] * df[col_b]).sum()\n",
    "    sum_a2 = (df[col_a] ** 2).sum()\n",
    "    sum_b2 = (df[col_b] ** 2).sum()\n",
    "    \n",
    "    numerator = n * sum_ab - sum_a * sum_b\n",
    "    denominator = np.sqrt((n * sum_a2 - sum_a ** 2) * (n * sum_b2 - sum_b ** 2))\n",
    "    \n",
    "    if denominator == 0:\n",
    "        return None  # Tránh chia cho 0\n",
    "    return numerator / denominator\n",
    "\n",
    "# Sử dụng:\n",
    "r = pearson_correlation(df, 'A', 'B')\n",
    "print(\"Hệ số tương quan Pearson:\", r)\n"
   ]
  },
  {
   "cell_type": "markdown",
   "metadata": {},
   "source": [
    "# Câu 2 "
   ]
  },
  {
   "cell_type": "code",
   "execution_count": 5,
   "metadata": {},
   "outputs": [
    {
     "name": "stdout",
     "output_type": "stream",
     "text": [
      "Contingency Table:\n",
      "Score_Category  High  Low  Medium\n",
      "Car                              \n",
      "A                  0    1       3\n",
      "B                  2    1       1\n",
      "C                  0    1       3\n",
      "\n",
      "Chi-squared: 5.1429, p-value: 0.2730\n"
     ]
    }
   ],
   "source": [
    "import pandas as pd\n",
    "import scipy.stats as stats\n",
    "\n",
    "# Tạo DataFrame từ dữ liệu bảng\n",
    "data = {\n",
    "    'Day': ['Day 1', 'Day 2', 'Day 3', 'Day 4'],\n",
    "    'A': [8, 7.5, 6, 7],\n",
    "    'B': [9, 8.5, 7, 6],\n",
    "    'C': [7, 7, 8, 5]\n",
    "}\n",
    "df = pd.DataFrame(data)\n",
    "\n",
    "# Chuyển sang dạng quan hệ (long format)\n",
    "df_long = df.melt(id_vars='Day', var_name='Car', value_name='Score')\n",
    "\n",
    "# Phân loại điểm thành các nhóm (ví dụ: thấp <=6, trung bình <=8, cao >8)\n",
    "def classify(score):\n",
    "    if score <= 6:\n",
    "        return 'Low'\n",
    "    elif score <= 8:\n",
    "        return 'Medium'\n",
    "    else:\n",
    "        return 'High'\n",
    "\n",
    "df_long['Score_Category'] = df_long['Score'].apply(classify)\n",
    "\n",
    "# Tạo bảng chéo: mẫu xe vs phân loại điểm\n",
    "contingency_table = pd.crosstab(df_long['Car'], df_long['Score_Category'])\n",
    "\n",
    "# Kiểm định Chi-squared\n",
    "chi2, p, dof, expected = stats.chi2_contingency(contingency_table)\n",
    "\n",
    "print(\"Contingency Table:\")\n",
    "print(contingency_table)\n",
    "print(f\"\\nChi-squared: {chi2:.4f}, p-value: {p:.4f}\")\n"
   ]
  },
  {
   "cell_type": "markdown",
   "metadata": {},
   "source": [
    "# Câu 3"
   ]
  },
  {
   "cell_type": "code",
   "execution_count": 7,
   "metadata": {},
   "outputs": [
    {
     "name": "stdout",
     "output_type": "stream",
     "text": [
      "   flight_id  departure_time departure_time_converted\n",
      "0          1             830                 08:30:00\n",
      "1          2            1445                 14:45:00\n",
      "2          3               5                 00:05:00\n"
     ]
    }
   ],
   "source": [
    "import pandas as pd\n",
    "from datetime import time\n",
    "\n",
    "# Giả sử đây là dữ liệu ban đầu\n",
    "df = pd.DataFrame({\n",
    "    'flight_id': [1, 2, 3],\n",
    "    'departure_time': [830, 1445, 5]  # 5 = 00:05 AM\n",
    "})\n",
    "\n",
    "# Hàm chuyển đổi số nguyên thành thời gian\n",
    "def convert_to_time(val):\n",
    "    val = int(val)\n",
    "    hour = val // 100\n",
    "    minute = val % 100\n",
    "    return time(hour=hour, minute=minute)\n",
    "\n",
    "# Áp dụng hàm chuyển đổi\n",
    "df['departure_time_converted'] = df['departure_time'].apply(convert_to_time)\n",
    "\n",
    "print(df)\n"
   ]
  },
  {
   "cell_type": "markdown",
   "metadata": {},
   "source": [
    "# Câu 4"
   ]
  },
  {
   "cell_type": "code",
   "execution_count": 8,
   "metadata": {},
   "outputs": [
    {
     "name": "stdout",
     "output_type": "stream",
     "text": [
      "   value  is_outlier\n",
      "0     10       False\n",
      "1     12       False\n",
      "2     11       False\n",
      "3     10       False\n",
      "4    200        True\n",
      "5     11       False\n",
      "6      9        True\n",
      "7     10       False\n",
      "8     13        True\n",
      "9    300        True\n"
     ]
    }
   ],
   "source": [
    "import pandas as pd\n",
    "import numpy as np\n",
    "\n",
    "# Giả sử bạn có DataFrame với cột giá trị cần phát hiện ngoại lệ\n",
    "df = pd.DataFrame({\n",
    "    'value': [10, 12, 11, 10, 200, 11, 9, 10, 13, 300]\n",
    "})\n",
    "\n",
    "# Tính trung vị và MAD\n",
    "median = df['value'].median()\n",
    "mad = np.median(np.abs(df['value'] - median))\n",
    "\n",
    "# Đặt ngưỡng, ví dụ x = 1.5\n",
    "x = 1.5\n",
    "threshold = x * mad\n",
    "\n",
    "# Đánh dấu ngoại lệ\n",
    "df['is_outlier'] = np.abs(df['value'] - median) > threshold\n",
    "\n",
    "print(df)\n"
   ]
  },
  {
   "cell_type": "markdown",
   "metadata": {},
   "source": [
    "# Câu 5  "
   ]
  },
  {
   "cell_type": "code",
   "execution_count": 9,
   "metadata": {},
   "outputs": [
    {
     "name": "stdout",
     "output_type": "stream",
     "text": [
      "So sánh người 0 và 1: Trùng\n",
      "So sánh người 0 và 2: Khác\n",
      "So sánh người 1 và 2: Khác\n"
     ]
    }
   ],
   "source": [
    "import pandas as pd\n",
    "\n",
    "# Dữ liệu mẫu\n",
    "data = [\n",
    "    {'last_name': 'Nguyen', 'weight': 60, 'height': 170},\n",
    "    {'last_name': 'Nguyen', 'weight': 60, 'height': 168},\n",
    "    {'last_name': 'Tran', 'weight': 65, 'height': 175}\n",
    "]\n",
    "df = pd.DataFrame(data)\n",
    "\n",
    "# Hàm kiểm tra khoảng cách Boolean kết hợp\n",
    "def is_same_person(p1, p2):\n",
    "    return int((p1['last_name'] == p2['last_name']) and (p1['weight'] == p2['weight']))\n",
    "\n",
    "# So sánh từng cặp\n",
    "for i in range(len(df)):\n",
    "    for j in range(i + 1, len(df)):\n",
    "        result = is_same_person(df.iloc[i], df.iloc[j])\n",
    "        print(f\"So sánh người {i} và {j}: {'Trùng' if result == 1 else 'Khác'}\")\n"
   ]
  }
 ],
 "metadata": {
  "kernelspec": {
   "display_name": "base",
   "language": "python",
   "name": "python3"
  },
  "language_info": {
   "codemirror_mode": {
    "name": "ipython",
    "version": 3
   },
   "file_extension": ".py",
   "mimetype": "text/x-python",
   "name": "python",
   "nbconvert_exporter": "python",
   "pygments_lexer": "ipython3",
   "version": "3.12.7"
  }
 },
 "nbformat": 4,
 "nbformat_minor": 2
}
