{
 "cells": [
  {
   "cell_type": "markdown",
   "id": "3e57008c",
   "metadata": {},
   "source": [
    "# Câu 1: "
   ]
  },
  {
   "cell_type": "code",
   "execution_count": 6,
   "id": "c878571e",
   "metadata": {},
   "outputs": [],
   "source": [
    "import sqlite3\n",
    "import math\n",
    "\n",
    "# Kết nối hoặc tạo database mới\n",
    "db = sqlite3.connect('faker.db')\n",
    "cur = db.cursor()\n",
    "\n",
    "# Tạo bảng nếu chưa tồn tại\n",
    "cur.execute('CREATE TABLE IF NOT EXISTS data (a REAL, b REAL)')\n",
    "\n",
    "# Dữ liệu\n",
    "values = [(1, 2), (2, 4), (3, 6), (4, 8), (5, 10)]\n",
    "\n",
    "# Thêm dữ liệu theo vòng lặp\n",
    "for a_val, b_val in values:\n",
    "    cur.execute('INSERT INTO data (a, b) VALUES (?, ?)', (a_val, b_val))\n",
    "\n",
    "db.commit()\n"
   ]
  },
  {
   "cell_type": "markdown",
   "id": "89d233f0",
   "metadata": {},
   "source": [
    "# Câu 2:"
   ]
  },
  {
   "cell_type": "code",
   "execution_count": 7,
   "id": "107a9ab6",
   "metadata": {},
   "outputs": [
    {
     "name": "stdout",
     "output_type": "stream",
     "text": [
      "Hệ số tương quan r_AB: 1.0\n"
     ]
    }
   ],
   "source": [
    "# Kết nối lại\n",
    "conn = sqlite3.connect('faker.db')\n",
    "cur = conn.cursor()\n",
    "\n",
    "# Lấy dữ liệu từ bảng\n",
    "cur.execute(\"SELECT a, b FROM data\")\n",
    "rows = cur.fetchall()\n",
    "\n",
    "# Tách a, b\n",
    "a_vals = [row[0] for row in rows]\n",
    "b_vals = [row[1] for row in rows]\n",
    "\n",
    "# Tính toán thủ công\n",
    "n = len(a_vals)\n",
    "sum_a = sum(a_vals)\n",
    "sum_b = sum(b_vals)\n",
    "sum_ab = sum(x*y for x, y in zip(a_vals, b_vals))\n",
    "sum_a2 = sum(x**2 for x in a_vals)\n",
    "sum_b2 = sum(y**2 for y in b_vals)\n",
    "\n",
    "numerator = n * sum_ab - sum_a * sum_b\n",
    "denominator = math.sqrt((n * sum_a2 - sum_a**2) * (n * sum_b2 - sum_b**2))\n",
    "\n",
    "r = numerator / denominator if denominator != 0 else None\n",
    "\n",
    "print(f\"Hệ số tương quan r_AB: {r}\" if r is not None else \"Không thể tính hệ số tương quan.\")\n",
    "conn.close()\n"
   ]
  },
  {
   "cell_type": "markdown",
   "id": "6aea375a",
   "metadata": {},
   "source": [
    "# Câu 3:"
   ]
  },
  {
   "cell_type": "code",
   "execution_count": 8,
   "id": "db32af45",
   "metadata": {},
   "outputs": [
    {
     "name": "stdout",
     "output_type": "stream",
     "text": [
      "One-Way ANOVA\n",
      "F-statistic: 0.5495\n",
      "p-value: 0.5954\n",
      "=> Không có sự khác biệt đáng kể.\n"
     ]
    }
   ],
   "source": [
    "import pandas as pd\n",
    "import sqlite3\n",
    "from scipy.stats import f_oneway\n",
    "\n",
    "conn = sqlite3.connect('faker.db')\n",
    "cur = conn.cursor()\n",
    "\n",
    "# Tạo bảng nếu chưa có\n",
    "cur.execute(\"DROP TABLE IF EXISTS car_scores\")\n",
    "cur.execute(\"\"\"\n",
    "    CREATE TABLE car_scores (\n",
    "        day TEXT,\n",
    "        model TEXT,\n",
    "        score REAL\n",
    "    )\n",
    "\"\"\")\n",
    "\n",
    "# Dữ liệu\n",
    "entries = [\n",
    "    (\"Day 1\", \"A\", 8), (\"Day 1\", \"B\", 9), (\"Day 1\", \"C\", 7),\n",
    "    (\"Day 2\", \"A\", 7.5), (\"Day 2\", \"B\", 8.5), (\"Day 2\", \"C\", 7),\n",
    "    (\"Day 3\", \"A\", 6), (\"Day 3\", \"B\", 7), (\"Day 3\", \"C\", 8),\n",
    "    (\"Day 4\", \"A\", 7), (\"Day 4\", \"B\", 6), (\"Day 4\", \"C\", 5)\n",
    "]\n",
    "\n",
    "# Chèn dữ liệu\n",
    "for row in entries:\n",
    "    cur.execute(\"INSERT INTO car_scores VALUES (?, ?, ?)\", row)\n",
    "conn.commit()\n",
    "\n",
    "# Truy vấn bằng pandas\n",
    "df_scores = pd.read_sql_query(\"SELECT * FROM car_scores\", conn)\n",
    "groups = [group['score'].tolist() for name, group in df_scores.groupby('model')]\n",
    "\n",
    "# ANOVA\n",
    "f_stat, p_val = f_oneway(*groups)\n",
    "\n",
    "print(\"One-Way ANOVA\")\n",
    "print(f\"F-statistic: {f_stat:.4f}\")\n",
    "print(f\"p-value: {p_val:.4f}\")\n",
    "print(\"=> Có sự khác biệt giữa các mẫu xe.\" if p_val < 0.05 else \"=> Không có sự khác biệt đáng kể.\")\n"
   ]
  },
  {
   "cell_type": "markdown",
   "id": "f7039fe5",
   "metadata": {},
   "source": [
    "# Câu 4:"
   ]
  },
  {
   "cell_type": "code",
   "execution_count": 9,
   "id": "445216ad",
   "metadata": {},
   "outputs": [
    {
     "name": "stdout",
     "output_type": "stream",
     "text": [
      "Bảng tần suất:\n",
      "score_group  High  Low  Medium\n",
      "day                           \n",
      "Day 1           1    0       2\n",
      "Day 2           1    0       2\n",
      "Day 3           0    1       2\n",
      "Day 4           0    2       1\n",
      "\n",
      "Chi-Square Test:\n",
      "Chi2: 6.0952, p-value: 0.4126, DoF: 6\n",
      "Expected Frequencies:\n",
      "score_group  High   Low  Medium\n",
      "day                            \n",
      "Day 1         0.5  0.75    1.75\n",
      "Day 2         0.5  0.75    1.75\n",
      "Day 3         0.5  0.75    1.75\n",
      "Day 4         0.5  0.75    1.75\n"
     ]
    }
   ],
   "source": [
    "from scipy.stats import chi2_contingency\n",
    "\n",
    "# Thêm cột phân loại\n",
    "cur.execute(\"ALTER TABLE car_scores ADD COLUMN score_group TEXT\")\n",
    "cur.execute(\"\"\"\n",
    "    UPDATE car_scores\n",
    "    SET score_group = \n",
    "        CASE\n",
    "            WHEN score <= 6 THEN 'Low'\n",
    "            WHEN score <= 8 THEN 'Medium'\n",
    "            ELSE 'High'\n",
    "        END\n",
    "\"\"\")\n",
    "conn.commit()\n",
    "\n",
    "# Đọc lại\n",
    "df = pd.read_sql_query(\"SELECT * FROM car_scores\", conn)\n",
    "\n",
    "# Tạo bảng chéo\n",
    "crosstab = pd.crosstab(df['day'], df['score_group'])\n",
    "\n",
    "print(\"Bảng tần suất:\")\n",
    "print(crosstab)\n",
    "\n",
    "# Kiểm định\n",
    "chi2, p, dof, expected = chi2_contingency(crosstab)\n",
    "\n",
    "print(\"\\nChi-Square Test:\")\n",
    "print(f\"Chi2: {chi2:.4f}, p-value: {p:.4f}, DoF: {dof}\")\n",
    "print(\"Expected Frequencies:\")\n",
    "print(pd.DataFrame(expected, index=crosstab.index, columns=crosstab.columns))\n"
   ]
  },
  {
   "cell_type": "markdown",
   "id": "e876a284",
   "metadata": {},
   "source": [
    "# Câu 5:"
   ]
  },
  {
   "cell_type": "code",
   "execution_count": 10,
   "id": "92920e24",
   "metadata": {},
   "outputs": [
    {
     "name": "stdout",
     "output_type": "stream",
     "text": [
      "(1, 830, '8:30 AM')\n",
      "(2, 1445, '2:45 PM')\n",
      "(3, 30, '12:30 AM')\n",
      "(4, 1200, '12:00 PM')\n",
      "(5, 1650, '4:50 PM')\n",
      "(6, 730, '7:30 AM')\n"
     ]
    }
   ],
   "source": [
    "from datetime import datetime\n",
    "\n",
    "cur.execute(\"DROP TABLE IF EXISTS flights\")\n",
    "cur.execute(\"CREATE TABLE flights (id_time INTEGER PRIMARY KEY, departure_time INTEGER)\")\n",
    "cur.executemany(\"INSERT INTO flights (id_time, departure_time) VALUES (?, ?)\", \n",
    "                [(1, 830), (2, 1445), (3, 30), (4, 1200), (5, 1650), (6, 730)])\n",
    "conn.commit()\n",
    "\n",
    "cur.execute(\"SELECT id_time, departure_time FROM flights\")\n",
    "rows = cur.fetchall()\n",
    "\n",
    "for id_, time_ in rows:\n",
    "    hour = time_ // 100\n",
    "    minute = time_ % 100\n",
    "    dt_obj = datetime.strptime(f\"{hour}:{minute:02d}\", \"%H:%M\")\n",
    "    print((id_, time_, dt_obj.strftime(\"%I:%M %p\").lstrip(\"0\")))\n"
   ]
  }
 ],
 "metadata": {
  "kernelspec": {
   "display_name": "base",
   "language": "python",
   "name": "python3"
  },
  "language_info": {
   "codemirror_mode": {
    "name": "ipython",
    "version": 3
   },
   "file_extension": ".py",
   "mimetype": "text/x-python",
   "name": "python",
   "nbconvert_exporter": "python",
   "pygments_lexer": "ipython3",
   "version": "3.12.7"
  }
 },
 "nbformat": 4,
 "nbformat_minor": 5
}
